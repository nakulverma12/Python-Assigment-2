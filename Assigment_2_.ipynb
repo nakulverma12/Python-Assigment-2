{
  "nbformat": 4,
  "nbformat_minor": 0,
  "metadata": {
    "colab": {
      "provenance": []
    },
    "kernelspec": {
      "name": "python3",
      "display_name": "Python 3"
    },
    "language_info": {
      "name": "python"
    }
  },
  "cells": [
    {
      "cell_type": "markdown",
      "source": [
        "# ***DATA TYPES AND STRUCTURE***"
      ],
      "metadata": {
        "id": "xnlOkqrUcrV6"
      }
    },
    {
      "cell_type": "markdown",
      "source": [
        "\n",
        "# * ***QUESTIONS***\n"
      ],
      "metadata": {
        "id": "5RYRXT3wdIok"
      }
    },
    {
      "cell_type": "markdown",
      "source": [
        "1. What are data structures, and why are they important?\n",
        "\n",
        "* A data structure is a way of organizing, storing, and managing data so it can be used efficiently. In simple terms, it's like choosing the right container to hold and arrange your data depending on how you want to use it.\n",
        "\n",
        "\n",
        "Example of Data Structures -\n",
        "\n",
        "* Arrays/Lists - Store a sequence of elements in order.\n",
        "\n",
        "* Stacks - Last-In-First-Out structure.\n",
        "\n",
        "* Queues - First-In-Frist-Out structure.\n",
        "\n",
        "* Linked List - Elements connected using pointers.\n",
        "\n",
        "* Trees - Hierarchical structure.\n",
        "\n",
        "* Graphs - Represent relationships between objects.\n",
        "\n",
        "* Hash Tables/Dictionaries - Store key-value pairs for fast lookups.\n"
      ],
      "metadata": {
        "id": "8LN9iFGIdpKy"
      }
    },
    {
      "cell_type": "markdown",
      "source": [
        "### ***Why Data Structures are Important***"
      ],
      "metadata": {
        "id": "o9HV3a-diAf1"
      }
    },
    {
      "cell_type": "markdown",
      "source": [
        "(1) Efficiency - The right data structure makes programs run faster and use less memory.\n",
        "\n",
        "Examlpe : Searching in a hash table is much faster than searching in a simple list.\n",
        "\n",
        "(2) Data Management - Helps organize data logically (hierarchies, relationship, etc.)\n",
        "\n",
        "Example : A file system is organized using a tree structure.\n",
        "\n",
        "(3) Reusability - Standard data structure can be reused in multiple applications.\n",
        "\n",
        "(4) Problem Solving - Many algorithms are built on data structures. Choosing the correct one often determines if a solution is feasible.\n",
        "\n",
        "(5) Scalability - Efficient data structure allow programs to handle large amounts of data smoothly.\n",
        "\n"
      ],
      "metadata": {
        "id": "EEbMsWuBicsk"
      }
    },
    {
      "cell_type": "markdown",
      "source": [
        "2. Explian the difference between mutable and immutable data types with example.\n",
        "\n",
        "* **Mutable Data Types**  -\n",
        "\n",
        "Mutable objets can be changed after they are created. If you modify a mutable object, the same memory location is updated instead of creating a new one\n",
        "\n",
        "Example -\n",
        "\n",
        "* list\n",
        "\n",
        "* dict\n",
        "\n",
        "* set\n"
      ],
      "metadata": {
        "id": "PksbqBNl-pJv"
      }
    },
    {
      "cell_type": "code",
      "source": [
        "numbers = [4, 5, 6]\n",
        "print(\"Before:\", numbers)\n",
        "\n",
        "# Modify the list\n",
        "numbers.append(5)\n",
        "numbers[0] = 12\n",
        "\n",
        "print(\"After:\", numbers)"
      ],
      "metadata": {
        "colab": {
          "base_uri": "https://localhost:8080/"
        },
        "id": "3DVmIrdcA2Pq",
        "outputId": "199808a2-367e-4bf5-ba3d-f430ec29e794"
      },
      "execution_count": null,
      "outputs": [
        {
          "output_type": "stream",
          "name": "stdout",
          "text": [
            "Before: [4, 5, 6]\n",
            "After: [12, 5, 6, 5]\n"
          ]
        }
      ]
    },
    {
      "cell_type": "markdown",
      "source": [
        "\n",
        "* **Immutable Data Types** -\n",
        "\n",
        "Immutable objects cannot be changed after creation. Any modification creates a new object in memory.\n",
        "\n",
        "Example -\n",
        "\n",
        "* int\n",
        "\n",
        "* float\n",
        "\n",
        "* str\n",
        "\n",
        "* tuple\n",
        "\n",
        "* frozenset"
      ],
      "metadata": {
        "id": "mrpfasPyBmi3"
      }
    },
    {
      "cell_type": "code",
      "source": [
        "\n",
        "name = \"Hello\"\n",
        "print(\"Before:\", name)\n",
        "\n",
        "# Modify the string\n",
        "\n",
        "name = name + \" World\"\n",
        "\n",
        "print(\"After:\", name)"
      ],
      "metadata": {
        "colab": {
          "base_uri": "https://localhost:8080/"
        },
        "id": "WRD6JYugCwsA",
        "outputId": "0850567a-541b-41f1-b2c7-af0901740b6d"
      },
      "execution_count": null,
      "outputs": [
        {
          "output_type": "stream",
          "name": "stdout",
          "text": [
            "Before: Hello\n",
            "After: Hello World\n"
          ]
        }
      ]
    },
    {
      "cell_type": "markdown",
      "source": [
        "\n",
        "3. What are the main differences between lists and tuples in python?\n"
      ],
      "metadata": {
        "id": "TZXIXGn1DYSm"
      }
    },
    {
      "cell_type": "markdown",
      "source": [
        "\n",
        "**(1) Mutability**\n",
        "\n",
        "* List - Mutable (can be changed: add, remove, update elements).\n",
        "\n",
        "* Tuple - Immutable (cannot be changed once created).\n"
      ],
      "metadata": {
        "id": "0fOf3awFELsr"
      }
    },
    {
      "cell_type": "code",
      "source": [
        "\n",
        "# List\n",
        "my_list = [10, 15, 18]\n",
        "my_list.append(4)\n",
        "print(\"List:\", my_list)"
      ],
      "metadata": {
        "colab": {
          "base_uri": "https://localhost:8080/"
        },
        "id": "1Nm7cy15E2Ut",
        "outputId": "ca9860f1-19dc-44db-e92a-2c8475eb7fda"
      },
      "execution_count": null,
      "outputs": [
        {
          "output_type": "stream",
          "name": "stdout",
          "text": [
            "List: [10, 15, 18, 4]\n"
          ]
        }
      ]
    },
    {
      "cell_type": "code",
      "source": [
        "\n",
        "# Tuple\n",
        "my_tuple = (10, 15, 18)\n",
        "# my_tuple.append(4)  #Error"
      ],
      "metadata": {
        "id": "afYAePzoFZlC"
      },
      "execution_count": null,
      "outputs": []
    },
    {
      "cell_type": "markdown",
      "source": [
        "\n",
        "**(2) Syntax -**\n",
        "\n",
        "* List - Defined using[] (square brackets).\n",
        "\n",
        "* Tuple - Defined using() (parentheses).\n"
      ],
      "metadata": {
        "id": "pjSKXNWEFwiN"
      }
    },
    {
      "cell_type": "code",
      "source": [
        "\n",
        "list_example = [1, 2, 3]\n",
        "tuple_example = (1, 2, 3)\n"
      ],
      "metadata": {
        "id": "f3bjrTQLHOOl"
      },
      "execution_count": null,
      "outputs": []
    },
    {
      "cell_type": "markdown",
      "source": [
        "**(3) Performance -**\n",
        "\n",
        "* Tuples are generally faster than lists because they are immutable and use less memory.\n",
        "\n",
        "* List are slightly slower due to their flexibility.\n"
      ],
      "metadata": {
        "id": "nz5X07gMHdHm"
      }
    },
    {
      "cell_type": "markdown",
      "source": [
        "**(4) Use Cases -**\n",
        "\n",
        "* List - When you need a collection of items that can change.\n",
        "\n",
        "* Tuple - When you need fixed data that should not chnage.\n"
      ],
      "metadata": {
        "id": "0GE66-FQIR_6"
      }
    },
    {
      "cell_type": "markdown",
      "source": [
        "**(5) Functions/Methods -**\n",
        "\n",
        "* List have many built-in methods: .append(), .remove(), .sort(), etc.\n",
        "\n",
        "* Tuples have very few methods: mainly .count() and .index().\n"
      ],
      "metadata": {
        "id": "uAicNTFbI7X5"
      }
    },
    {
      "cell_type": "markdown",
      "source": [
        "**In short list use when data will change and tuples use when data is constant and should nat change.**"
      ],
      "metadata": {
        "id": "udxrnTtNJwy9"
      }
    },
    {
      "cell_type": "markdown",
      "source": [
        "\n",
        "4. Describe how to dictionaries store data.\n",
        "\n",
        "* Dictionaries in python store data using a key-value pair system, where each unique kay maps to a specific value. Under the hood, they use a data structure called a hash table for fast lookups, insertions, and deletions.\n",
        "\n",
        "Here's how it works step by step :\n",
        "\n",
        "(1) Keys must be hashable -\n",
        "\n",
        "* When you insert a key into a dictionary, Python calculates its hash value using the built-in hash() function.\n",
        "\n",
        "* Immutable types like strings, numbers, and tuples (with only immutable elements) are hashable, So they can be dictionary keys.\n",
        "\n",
        "(2) Hash table storage -\n",
        "\n",
        "* The hash value determines where the key-value pair should be stored in memory.\n",
        "\n",
        "* Internally, Python maintains an array (the hash table) where each slot holds a reference to a key-value pair.\n"
      ],
      "metadata": {
        "id": "Bo8lnp6OKQoe"
      }
    },
    {
      "cell_type": "markdown",
      "source": [
        "(3) Collision handling -\n",
        "\n",
        "* Sometimes two different keys produce the same hash value(a collision).\n",
        "* Python resolves this using open addressing (probing nearby empty slots) or by rehashing until it finds a free slot.\n",
        "\n",
        "(4) Fast access -\n",
        "\n",
        "* When you look up a key (my_dict[\"name\"]), Python recomputes its hash and jumps directly to the correct slot in the table, making access very fast (on average O(1) time).\n"
      ],
      "metadata": {
        "id": "6DjtjcT-_G_S"
      }
    },
    {
      "cell_type": "markdown",
      "source": [
        "(5) Dynamic resizing -\n",
        "\n",
        "* If the dictionary becomes too full, Python automatically resizes the hash table (creates a larger array and rehashes all keys) to keep performance efficient.\n"
      ],
      "metadata": {
        "id": "q6O8QdA8A9LT"
      }
    },
    {
      "cell_type": "code",
      "source": [
        "\n",
        "person = {\"name\": \"Alice\", \"age\": 25, \"city\": \"New York\"}\n",
        "\n",
        "# \"name\" is hashed to some index, and the value \"Alice\" is stored there.\n",
        "\n",
        "# \"age\" and \"city\" are hashed to different slots, holding their values.\n"
      ],
      "metadata": {
        "id": "JK3ycs8YCKOf"
      },
      "execution_count": null,
      "outputs": []
    },
    {
      "cell_type": "markdown",
      "source": [
        "So dictionaries in Python are like a fast, flexible map between keys and values, powered by hashing.\n"
      ],
      "metadata": {
        "id": "EGebrnYsDS2_"
      }
    },
    {
      "cell_type": "markdown",
      "source": [
        "5. Why might you use a set instead of a list in Python?\n",
        "\n",
        "* You might use a set instead of a list in Python depending on what you need to do with your data. Here are main reasons:\n",
        "\n",
        "\n",
        "(1) No duplicate elements -\n",
        "\n",
        "* A set automatically removes duplicates.\n",
        "\n",
        "* A list keeps all items, even if they're repeated.\n"
      ],
      "metadata": {
        "id": "qVdX96UOEJsV"
      }
    },
    {
      "cell_type": "code",
      "source": [
        " num_list = [1, 2, 2, 3]\n",
        " num_set = {1, 2, 2, 3}\n",
        "\n",
        "\n",
        " print(num_list)\n",
        " print(num_set)"
      ],
      "metadata": {
        "colab": {
          "base_uri": "https://localhost:8080/"
        },
        "id": "PLQ3rjbNJC10",
        "outputId": "b753c5ce-82f6-45e0-f002-7dac23af0a18"
      },
      "execution_count": null,
      "outputs": [
        {
          "output_type": "stream",
          "name": "stdout",
          "text": [
            "[1, 2, 2, 3]\n",
            "{1, 2, 3}\n"
          ]
        }
      ]
    },
    {
      "cell_type": "markdown",
      "source": [
        "\n",
        "(2) Faster membership testing -\n",
        "\n",
        "* Checking if an item exists (in) is much faster in sets (average O(1)) compared to lists (O(n)).\n",
        "\n",
        "* This is because sets use hash tables, while lists check each element one by one.\n"
      ],
      "metadata": {
        "id": "R7yDC_92J19j"
      }
    },
    {
      "cell_type": "code",
      "source": [
        "big_list = list(range(1_000_000))\n",
        "big_set = set(range(1_000_000))\n",
        "\n",
        "print(999_999 in big_list)\n",
        "print(999_999 in big_set)"
      ],
      "metadata": {
        "colab": {
          "base_uri": "https://localhost:8080/"
        },
        "id": "bdBbhlPuLR_1",
        "outputId": "93b88e68-52c0-4db1-b35f-a07029be7317"
      },
      "execution_count": null,
      "outputs": [
        {
          "output_type": "stream",
          "name": "stdout",
          "text": [
            "True\n",
            "True\n"
          ]
        }
      ]
    },
    {
      "cell_type": "markdown",
      "source": [
        "\n",
        "(3) Set Operation -\n",
        "\n",
        "* Sets support mathematical operations like union, intersection, and difference, which lists don't provide directly.\n"
      ],
      "metadata": {
        "id": "rHDdfYTlL8yM"
      }
    },
    {
      "cell_type": "code",
      "source": [
        "\n",
        "a = {1, 2, 3}\n",
        "b = {3, 4, 5}\n",
        "print(a.union(b))\n",
        "print(a & b)\n",
        "print(a - b)"
      ],
      "metadata": {
        "colab": {
          "base_uri": "https://localhost:8080/"
        },
        "id": "eXPB14xDjwJ5",
        "outputId": "0a2ab734-35d1-4899-a659-fda72e21a036"
      },
      "execution_count": null,
      "outputs": [
        {
          "output_type": "stream",
          "name": "stdout",
          "text": [
            "{1, 2, 3, 4, 5}\n",
            "{3}\n",
            "{1, 2}\n"
          ]
        }
      ]
    },
    {
      "cell_type": "markdown",
      "source": [
        "\n",
        "(4) Order doesn't matter -\n",
        "\n",
        "* If you don't care about order and just need unique items with fast lookups, a set is the better choice.\n",
        "\n",
        "* Lists preserve order (and now, since Python 3.7+, dictionaries too).\n",
        "\n"
      ],
      "metadata": {
        "id": "vIj6mRhQkTxQ"
      }
    },
    {
      "cell_type": "markdown",
      "source": [
        "\n",
        "6. What is a string in Python, and how is it different from a list?\n",
        "\n",
        "* A string is a sequence of characters enclosed in single quotes('), double quotes(\"), triple quotes(''' or \"\"\").\n",
        "\n",
        "Example -\n"
      ],
      "metadata": {
        "id": "r2GIAOwGmnR8"
      }
    },
    {
      "cell_type": "code",
      "source": [
        "my_string = \"Hello, World!\"\n",
        "print(my_string)"
      ],
      "metadata": {
        "colab": {
          "base_uri": "https://localhost:8080/"
        },
        "id": "4XOPAkHpqJAP",
        "outputId": "37e8c835-008e-4072-b449-523b088ba721"
      },
      "execution_count": null,
      "outputs": [
        {
          "output_type": "stream",
          "name": "stdout",
          "text": [
            "Hello, World!\n"
          ]
        }
      ]
    },
    {
      "cell_type": "markdown",
      "source": [
        "# * **How is a String Different from a List?**\n",
        "\n",
        "**Data Type -**\n",
        "\n",
        "* String - Sequence of Characters\n",
        "\n",
        "* List - Sequence of any data type ( number, string, objects, etc).\n",
        "\n",
        "**Mutability -**\n",
        "\n",
        "* string - Immutable cannot be changed after creation .\n",
        "\n",
        "* List - Mutable elements can be added, removed, or changed .\n",
        "\n",
        "**Element Type -**\n",
        "\n",
        "* String - Always characters (like'a', 'b', '1') .\n",
        "\n",
        "* List - Can hold mixed data types([1, \"apple\", True]) .\n"
      ],
      "metadata": {
        "id": "nmrol8gyqbE9"
      }
    },
    {
      "cell_type": "markdown",
      "source": [
        "**Methods -**\n",
        "\n",
        "* String - Lots of text-processing methods(.upper(), .lower(), .replace(), .split()) .\n",
        "\n",
        "* List - Lots od list-manipulation methods(.append(), .remove(), .sort()) .\n"
      ],
      "metadata": {
        "id": "GmnQbUfss3kg"
      }
    },
    {
      "cell_type": "markdown",
      "source": [
        "**Concatenation -**\n",
        "\n",
        "* String - Use + to join strings .\n",
        "\n",
        "* List - Use + or .extend() to join lists .\n",
        "\n",
        "\n",
        "**Iteration -**\n",
        "\n",
        "* String - Can iterate character by character .\n",
        "\n",
        "* List - Can iterate element by element .  \n"
      ],
      "metadata": {
        "id": "ds0IoMVcwO6W"
      }
    },
    {
      "cell_type": "code",
      "source": [
        " # Mutability Difference\n",
        "\n",
        " # String (immutable)\n",
        "s = \"hello\"\n",
        "s = \"H\" + s[1:]\n",
        "print(s)\n",
        "\n",
        "# List (mutable)\n",
        "\n",
        "l = [\"h\", \"e\", \"l\", \"l\", \"o\"]\n",
        "\n",
        "l[0] = \"H\"\n",
        "print(l)"
      ],
      "metadata": {
        "colab": {
          "base_uri": "https://localhost:8080/"
        },
        "id": "pOlt6JrtxuzV",
        "outputId": "862a06f9-a113-4130-92b6-ade11a578790"
      },
      "execution_count": null,
      "outputs": [
        {
          "output_type": "stream",
          "name": "stdout",
          "text": [
            "Hello\n",
            "['H', 'e', 'l', 'l', 'o']\n"
          ]
        }
      ]
    },
    {
      "cell_type": "markdown",
      "source": [
        "\n",
        "7. How do tuples ensure data integrity in Python?\n",
        "\n",
        "Tuples in Python help ensure data integrity because they are immutable.\n",
        "\n",
        "* Once a tuple is created, its elements cannot be changed, added, or removed.\n",
        "\n",
        "* This immutability ensure that the dsata stored inside a tuple stays the same throughout the program's execution.\n",
        "\n",
        "**How this ensures data integrity :**\n",
        "\n",
        "**(1) Prevents accidental modification -**\n",
        "\n",
        "If you store important data in a tuple, you can be sure that no function or block of code will accidentally overwrite ar alter it.\n"
      ],
      "metadata": {
        "id": "1VmQAqPr2IQc"
      }
    },
    {
      "cell_type": "code",
      "source": [
        "numbers = (1, 2, 3)"
      ],
      "metadata": {
        "id": "LFqjLS4Iqw8S"
      },
      "execution_count": null,
      "outputs": []
    },
    {
      "cell_type": "markdown",
      "source": [
        "\n",
        "**(2) Safe tp use as dictionary keys or set elements** -\n",
        "\n",
        "Since tuples cannot change, they are hashable (if they cantain only immutable objects). This makes them reliable keys in dictionaries or members of sets, unlike lists."
      ],
      "metadata": {
        "id": "yJzVyUvjq3k1"
      }
    },
    {
      "cell_type": "code",
      "source": [
        "\n",
        "coordinates = (10, 20)\n",
        "location_data = {coordinates: \"New York\"}\n"
      ],
      "metadata": {
        "id": "XBbOdgc_tRLM"
      },
      "execution_count": null,
      "outputs": []
    },
    {
      "cell_type": "markdown",
      "source": [
        "**(3) More predictable and consistent -**\n",
        " Data stored in tuples remains fixed and consistent.\n",
        "\n",
        "Example -  Storing configuration values, database records, or constant collections in tuples ensures they aren't accidentally\n",
        "astered."
      ],
      "metadata": {
        "id": "1SbDsDoEuA78"
      }
    },
    {
      "cell_type": "markdown",
      "source": [
        "**In short, Tuples ensure data integrity by being immutable- once defined the data cannot be changed, protecting it from accidental or unauthorized modifications.**"
      ],
      "metadata": {
        "id": "LQes0UXNvRzw"
      }
    },
    {
      "cell_type": "markdown",
      "source": [
        "\n",
        "8. What is a hash table, and how does it relate to dictionaries in Python?\n",
        "\n",
        "A hash table is a data structure that stores key-value pairs allows very fast lookups, insertions, and deletions.\n",
        "\n",
        "* It uses a hash function to convert a key(like \"name\") into an integer called a hash value.\n",
        "\n",
        "* This hash value is then mapped to a specific index in an array(bucket) where the value is stored.\n"
      ],
      "metadata": {
        "id": "nbDnAjwFv5DU"
      }
    },
    {
      "cell_type": "markdown",
      "source": [
        "**How does this relate to Python dictionaries?**\n",
        "\n",
        "Python's bulit-in dict(dictionary) is implemented using a hash table under the hood.\n",
        "\n",
        "(1) When you do:\n"
      ],
      "metadata": {
        "id": "QNfKkbWMycei"
      }
    },
    {
      "cell_type": "code",
      "source": [
        "student = {\"name\": \"Alice\", \"age\": 21}\n"
      ],
      "metadata": {
        "id": "XhX7LJIqzJrj"
      },
      "execution_count": null,
      "outputs": []
    },
    {
      "cell_type": "markdown",
      "source": [
        "* \"name\" and \"age\" are the keys.\n",
        "\n",
        "* \"Alice\" and 21 are the values.\n"
      ],
      "metadata": {
        "id": "YCmwJ-3izVsa"
      }
    },
    {
      "cell_type": "markdown",
      "source": [
        "(2) Python takes each key (e.g., \"name\") and runs it through a hash function:\n"
      ],
      "metadata": {
        "id": "T6BPmEU5zmcT"
      }
    },
    {
      "cell_type": "code",
      "source": [
        "hash(\"name\") # produces an integer"
      ],
      "metadata": {
        "id": "rMxhecCKz7an"
      },
      "execution_count": null,
      "outputs": []
    },
    {
      "cell_type": "markdown",
      "source": [
        "\n",
        "(3) That hash value determines where in memory(in the hash table) the corresponding value is stored.\n",
        "\n",
        "\n",
        "(4) When you access the dictionary like student[\"age\"], Python:\n",
        "\n",
        "* Recomputes the hash of \"age\" .\n",
        "\n",
        "* Finds the memory slot using that hash.\n",
        "\n",
        "* Retrieves the value 21 directly, without scanning the whole dictionary.\n"
      ],
      "metadata": {
        "id": "gkYr2-yx0Orx"
      }
    },
    {
      "cell_type": "markdown",
      "source": [
        " 9. Can lists contain different data types in Python?\n",
        "\n",
        " In Python, lists can cantain elements of different data types. Unlike arrays in some other programming languages (which require all elements to be of the same type),Python lists are very flexible.\n",
        "\n",
        " Example -\n"
      ],
      "metadata": {
        "id": "7bzVhqyv1j14"
      }
    },
    {
      "cell_type": "code",
      "source": [
        "my_list = [10, \"hello\", 3.14, True, [1, 2, 3]]\n",
        "\n",
        "print(my_list)"
      ],
      "metadata": {
        "colab": {
          "base_uri": "https://localhost:8080/"
        },
        "id": "SChQuhOJKKfi",
        "outputId": "d9ff51e6-6ae7-499a-8e5e-9f049a5d573f"
      },
      "execution_count": null,
      "outputs": [
        {
          "output_type": "stream",
          "name": "stdout",
          "text": [
            "[10, 'hello', 3.14, True, [1, 2, 3]]\n"
          ]
        }
      ]
    },
    {
      "cell_type": "markdown",
      "source": [
        "\n",
        "Here, the list contains:\n",
        "\n",
        "* An integer (10)\n",
        "\n",
        "* A string (\"hello\")\n",
        "\n",
        "* A float (3.14)\n",
        "\n",
        "* A boolean (True)\n",
        "\n",
        "* Anthor list ([1, 2, 3])\n",
        "\n",
        "So yes, a single list can store a mix of numbers, strings, booleans, and even other collections.\n"
      ],
      "metadata": {
        "id": "q0h7kSjZKiDs"
      }
    },
    {
      "cell_type": "markdown",
      "source": [
        "10. Explain why strings are immutable in Python.\n",
        "\n",
        "**(1) Memory efficiency (string interning) -**\n",
        "\n",
        "* Pyhton often reuses strings (especially small or frequently used ones) to save memory.\n",
        "\n",
        "* If stirngs were mutable, changing one would unintentionally\n",
        "change all other references to it.\n",
        "\n",
        "* Example -"
      ],
      "metadata": {
        "id": "mL9Qq5wFLxir"
      }
    },
    {
      "cell_type": "code",
      "source": [
        "a = \"hello\"\n",
        "b = \"hello\"\n",
        "print(a is b)"
      ],
      "metadata": {
        "colab": {
          "base_uri": "https://localhost:8080/"
        },
        "id": "TMd4CpDTOeA1",
        "outputId": "b87e4b18-0e47-4727-e2f5-5fe7b702c09b"
      },
      "execution_count": null,
      "outputs": [
        {
          "output_type": "stream",
          "name": "stdout",
          "text": [
            "True\n"
          ]
        }
      ]
    },
    {
      "cell_type": "markdown",
      "source": [
        "\n",
        "**(2) Hashing and dictionary keys -**\n",
        "\n",
        "* Strings are commonly used as keys in dictionaries and elements in sets.\n",
        "\n",
        "* Dictionary keys must be immutable (so their hash values remain stable).\n",
        "\n",
        "* If strings were mutable, changing a key after insertion would break dictionay lookups.\n"
      ],
      "metadata": {
        "id": "8tyA52EiOpOA"
      }
    },
    {
      "cell_type": "markdown",
      "source": [
        "**(3) Safety and predictability -**\n",
        "\n",
        "* Immutability ensures that functions working with strings don't accidentally modify them.\n",
        "\n",
        "* Instead, operations like concatenation or slicings create new strings, making the behavior more predictable.\n",
        "\n",
        "\n",
        "**(4) Thread safety -**\n",
        "\n",
        "* In multi-threaded programs, immutability prevents unexpected changes when multiple threads access the same string.\n"
      ],
      "metadata": {
        "id": "dn0YOcQkPxiN"
      }
    },
    {
      "cell_type": "code",
      "source": [
        "s = \"python\"\n",
        "# s[0] = \"p\" # This line caused the error\n",
        "\n",
        "# Instead you create a new string:\n",
        "\n",
        "s = \"python\"\n",
        "s = \"p\" + s[1:]\n",
        "print(s)"
      ],
      "metadata": {
        "colab": {
          "base_uri": "https://localhost:8080/"
        },
        "id": "F42XEQCwRMId",
        "outputId": "75905c9c-42c0-4376-8262-d9c145bde045"
      },
      "execution_count": null,
      "outputs": [
        {
          "output_type": "stream",
          "name": "stdout",
          "text": [
            "python\n"
          ]
        }
      ]
    },
    {
      "cell_type": "markdown",
      "source": [
        "\n",
        "11. What advantages do dictionaries offer over lists for certain tasks?\n",
        "\n",
        "**Advantages of Dictionaries over Lists :**\n",
        "\n",
        "(1) Fast Lookups (O(1) average time) -\n",
        "\n",
        "* Lists - To find an element, Python may have to search through the entire list O(n) time complexity .\n",
        "\n",
        "* Dictionaries - Use a hash table, so looking up a value by its key is much faster (average O(1) time) .\n"
      ],
      "metadata": {
        "id": "sIXZJKPuStV1"
      }
    },
    {
      "cell_type": "code",
      "source": [
        "# Using a list\n",
        "\n",
        "students = [\"Alice\", \"Bob\", \"charlie\"]\n",
        "print(\"charlie\" in students)\n",
        "\n",
        "# Using a divtionary\n",
        "\n",
        "students_dict = {\"Alice\": 1, \"Bob\": 2, \"charlie\": 3}\n",
        "print(\"charlie\" in students_dict)"
      ],
      "metadata": {
        "colab": {
          "base_uri": "https://localhost:8080/"
        },
        "id": "BSW7Cv2gVjuo",
        "outputId": "6217c06b-3aa0-433b-f64d-d8e0c86d1b99"
      },
      "execution_count": null,
      "outputs": [
        {
          "output_type": "stream",
          "name": "stdout",
          "text": [
            "True\n",
            "True\n"
          ]
        }
      ]
    },
    {
      "cell_type": "markdown",
      "source": [
        "\n",
        "(2) Key- Value pair storage -\n",
        "\n",
        "* Lists - Store items in a simple sequence (indexed by position) .\n",
        "\n",
        "* Dictionaries - Store data as key-value pairs, making data more descriptive and easier to arganize .\n",
        "\n",
        "Example -"
      ],
      "metadata": {
        "id": "X3-KgWVmWvNG"
      }
    },
    {
      "cell_type": "code",
      "source": [
        "# List of student info (confusing, rely on index)\n",
        "\n",
        "student1 = [\"Alice\", 20, \"Math\"]\n",
        "\n",
        "# Dictionary (clear, descriptive)\n",
        "\n",
        "student1 = {\"name\": \"Alice\", \"age\": 20, \"course\": \"Math\"}"
      ],
      "metadata": {
        "id": "3GqbTUpAX8TK"
      },
      "execution_count": null,
      "outputs": []
    },
    {
      "cell_type": "markdown",
      "source": [
        "\n",
        "**(3) No Need for Index Positions -**\n",
        "\n",
        "* Lists - You access elements by numeric index (list[0], list[1]) .\n",
        "\n",
        "* Dictionaries - You can access elements directly by meaningful keys (dict[\"name\"]) .\n",
        "\n",
        "This makes code more readable and less error-prone .\n"
      ],
      "metadata": {
        "id": "EXG52dPHZ4Ga"
      }
    },
    {
      "cell_type": "markdown",
      "source": [
        "**(4) Avoids Duplicates in keys -**\n",
        "\n",
        "* Lists - Can contain duplicate elements .\n",
        "\n",
        "* Dictionaries - Keys are unique, preventing accidental duplication .\n"
      ],
      "metadata": {
        "id": "pqwGVV-Rzp0z"
      }
    },
    {
      "cell_type": "markdown",
      "source": [
        "**(5) Flexibility in Data Modeling -**\n",
        "\n",
        "* Dictionaries are excellent for representing real-world structured data (like objects, records, or JSON) .\n",
        "\n",
        "* Lists are better for ordered collections where the podition matters .\n"
      ],
      "metadata": {
        "id": "qe9HvEkd0Pix"
      }
    },
    {
      "cell_type": "markdown",
      "source": [
        "12. Describe a scenario where using a tuple would be preferable over a list.\n",
        "\n",
        "A tuple is preferred over a list in situations where the data should be fixed, read-only, and not modified after creation.\n",
        "\n",
        "### ***Scenarios where tuples are better than list :-***\n",
        "\n",
        "(1) Storing Constant Data (Data Integrity) -\n",
        "\n",
        "* If you want to ensure the data cannot be changed accidentally, use a tuple .\n",
        "\n",
        "* Example -\n"
      ],
      "metadata": {
        "id": "mFwNdveF1EKA"
      }
    },
    {
      "cell_type": "code",
      "source": [
        "# Days of the week\n",
        "\n",
        "days = (\"mon\", \"Tue\", \"Wed\", \"Thu\", \"Fri\", \"Sat\", \"sun\")\n"
      ],
      "metadata": {
        "id": "X2GQAmW_Nr9d"
      },
      "execution_count": null,
      "outputs": []
    },
    {
      "cell_type": "markdown",
      "source": [
        "This prevents anyone from modifying or adding another day ."
      ],
      "metadata": {
        "id": "uXvIOLxgO9OU"
      }
    },
    {
      "cell_type": "markdown",
      "source": [
        "(2) Dictionary Keys or Set Elements -\n",
        "\n",
        "* List are Mutable, so they cannot be used as dictionary keys or set elements .\n",
        "\n",
        "* Tuples are immutable, so they can be used as keys .\n"
      ],
      "metadata": {
        "id": "mBgot65TPosb"
      }
    },
    {
      "cell_type": "code",
      "source": [
        "# Using tuples as dictonary keys\n",
        "\n",
        "locations = {\n",
        "    (28.6139, 77.2090): \"New Delhi\",\n",
        "    (40.7128, -74.0060): \"New york\"\n",
        "}"
      ],
      "metadata": {
        "id": "Q94N2WYZRXPh"
      },
      "execution_count": null,
      "outputs": []
    },
    {
      "cell_type": "markdown",
      "source": [
        "(3) Function Arguments (Fixed Grouping) -\n",
        "\n",
        "* Sometimes ypu want to group multiple values together and ansure they remain unchanged .\n",
        "\n",
        "* Example -\n"
      ],
      "metadata": {
        "id": "VcCSJbR6Tqjk"
      }
    },
    {
      "cell_type": "code",
      "source": [
        "def get_student():\n",
        "  reture(\"Alice\", 20, \"Math\")\n",
        "\n",
        "  student = get_student()\n",
        "  print(student )"
      ],
      "metadata": {
        "id": "gfToAbTTOS93"
      },
      "execution_count": null,
      "outputs": []
    },
    {
      "cell_type": "markdown",
      "source": [
        "(4) Performance -\n",
        "\n",
        "* Tuples are slightly faster than lists for iteration and storage (since they are immutable and lighter) .\n",
        "\n",
        "* Useful when handling large amounts of constant data .\n"
      ],
      "metadata": {
        "id": "VgHYxNClO3Ba"
      }
    },
    {
      "cell_type": "markdown",
      "source": [
        "(5) Semantic Meaning -\n",
        "\n",
        "* Using a tuple can signal that the data  is fixed and should not change .\n",
        "\n",
        "* Example -\n"
      ],
      "metadata": {
        "id": "dXqrNfn_PbJT"
      }
    },
    {
      "cell_type": "code",
      "source": [
        "print = (10, 20) # Coordinates shouldn't change"
      ],
      "metadata": {
        "id": "6UbyUwl5Pz8T"
      },
      "execution_count": null,
      "outputs": []
    },
    {
      "cell_type": "markdown",
      "source": [
        "\n",
        "13. How do sets handle duplicate value in Python ?\n",
        "\n",
        "In Pyhton , set automatically remove duplicates .\n",
        "\n",
        "**How sets handle duplicate:-**\n",
        "\n",
        "* A set is an unoedered collection of unique elements .\n",
        "\n",
        "* If you try to add duplicate values, Python keeps only one copy of that value .\n",
        "\n",
        "Example -\n"
      ],
      "metadata": {
        "id": "59qkRzeUQFRb"
      }
    },
    {
      "cell_type": "code",
      "source": [
        "my_set = {1, 2, 2, 3, 3, 4, 5, 5,}\n",
        "print(my_set)"
      ],
      "metadata": {
        "colab": {
          "base_uri": "https://localhost:8080/"
        },
        "id": "AUr88tx_SBnN",
        "outputId": "561586be-c537-418d-d485-12590d08c4a6"
      },
      "execution_count": null,
      "outputs": [
        {
          "output_type": "stream",
          "name": "stdout",
          "text": [
            "{1, 2, 3, 4, 5}\n"
          ]
        }
      ]
    },
    {
      "cell_type": "markdown",
      "source": [
        "***Adding Duplicate -***"
      ],
      "metadata": {
        "id": "TTukGLL0SXHc"
      }
    },
    {
      "cell_type": "code",
      "source": [
        "s = {10, 20, 30}\n",
        "s.add(20)\n",
        "print(s)"
      ],
      "metadata": {
        "colab": {
          "base_uri": "https://localhost:8080/"
        },
        "id": "Zzsk1zujSe3p",
        "outputId": "0d374cb3-ac92-4138-916a-90847d476db1"
      },
      "execution_count": null,
      "outputs": [
        {
          "output_type": "stream",
          "name": "stdout",
          "text": [
            "{10, 20, 30}\n"
          ]
        }
      ]
    },
    {
      "cell_type": "markdown",
      "source": [
        "No error occurs, but the duplicate is simply ignored .\n"
      ],
      "metadata": {
        "id": "bSaX4VlUSx2R"
      }
    },
    {
      "cell_type": "markdown",
      "source": [
        "14. How does the \"in\" keyword work differently for list and dictionaries ?\n",
        "\n",
        "(1) Using in with a list -\n",
        "\n",
        "* For lists, the in keyword checks weather a value exists as an element inside the list .\n",
        "\n",
        "* It performs a linear search through the list.\n"
      ],
      "metadata": {
        "id": "ffTpqI7TmvvK"
      }
    },
    {
      "cell_type": "code",
      "source": [
        "numbers = [10, 20, 30, 40]\n",
        "print(20 in numbers)\n",
        "print(50 in numbers)"
      ],
      "metadata": {
        "colab": {
          "base_uri": "https://localhost:8080/"
        },
        "id": "rylBa7F4oBj5",
        "outputId": "6914d66c-4dbb-464d-9de2-6a4e67a85d27"
      },
      "execution_count": null,
      "outputs": [
        {
          "output_type": "stream",
          "name": "stdout",
          "text": [
            "True\n",
            "False\n"
          ]
        }
      ]
    },
    {
      "cell_type": "markdown",
      "source": [
        "(2) Using in with a Dictionary -\n",
        "\n",
        "* For dictionaries, the in keyword checks whether a key exists in the dictionary, not the value.\n",
        "\n",
        "* It works efficiently because dictionaries use hashing for keys .\n"
      ],
      "metadata": {
        "id": "zfscXVnBpr9Q"
      }
    },
    {
      "cell_type": "code",
      "source": [
        "student = {\"name\": \"Alice\", \"age\": 22, \"grade\": \"A\"}\n",
        "\n",
        "print(\"name\" in student)\n",
        "print(\"Alice\" in student)"
      ],
      "metadata": {
        "colab": {
          "base_uri": "https://localhost:8080/"
        },
        "id": "s-MDP3mJqPDN",
        "outputId": "12227cde-8bd2-4c45-e278-0a3910b09340"
      },
      "execution_count": null,
      "outputs": [
        {
          "output_type": "stream",
          "name": "stdout",
          "text": [
            "True\n",
            "False\n"
          ]
        }
      ]
    },
    {
      "cell_type": "markdown",
      "source": [
        "***Key Difference:-***\n",
        "\n",
        "* List - in checks if an items is an element.\n",
        "\n",
        "* Dictionary - in checks if an item is a key (not value by default) .\n"
      ],
      "metadata": {
        "id": "9qMSMYbVq8Vb"
      }
    },
    {
      "cell_type": "markdown",
      "source": [
        "\n",
        "15. Can you modify the elements of a tuple ? Explain why or why not .\n",
        "\n"
      ],
      "metadata": {
        "id": "JliLsLFer4pt"
      }
    },
    {
      "cell_type": "markdown",
      "source": [
        "No, you cannot modify the elements of a tuple in Python.\n",
        "\n",
        "### **Reason :-**\n",
        "\n",
        "* Tuples are immutable data structures .\n",
        "\n",
        "* Once a tuple is created, its elements cannot be changed, added, or removed .\n",
        "\n",
        "* This immutability means you cannot do operations like tuple[0] = 10, which would raise a TypeError .\n",
        "\n",
        "Example -"
      ],
      "metadata": {
        "id": "0XPbb18JWhSl"
      }
    },
    {
      "cell_type": "code",
      "source": [
        "my_tuple = (1, 2, 3)\n",
        "my_tuple[0] = 10 #n  TypeError : 'tuple' object does not support item assignment"
      ],
      "metadata": {
        "colab": {
          "base_uri": "https://localhost:8080/",
          "height": 159
        },
        "id": "_ueVnqBnX2yO",
        "outputId": "4da103bf-3f45-4494-8d57-21051d3a2fac"
      },
      "execution_count": null,
      "outputs": [
        {
          "output_type": "error",
          "ename": "TypeError",
          "evalue": "'tuple' object does not support item assignment",
          "traceback": [
            "\u001b[0;31m---------------------------------------------------------------------------\u001b[0m",
            "\u001b[0;31mTypeError\u001b[0m                                 Traceback (most recent call last)",
            "\u001b[0;32m/tmp/ipython-input-1516787414.py\u001b[0m in \u001b[0;36m<cell line: 0>\u001b[0;34m()\u001b[0m\n\u001b[1;32m      1\u001b[0m \u001b[0mmy_tuple\u001b[0m \u001b[0;34m=\u001b[0m \u001b[0;34m(\u001b[0m\u001b[0;36m1\u001b[0m\u001b[0;34m,\u001b[0m \u001b[0;36m2\u001b[0m\u001b[0;34m,\u001b[0m \u001b[0;36m3\u001b[0m\u001b[0;34m)\u001b[0m\u001b[0;34m\u001b[0m\u001b[0;34m\u001b[0m\u001b[0m\n\u001b[0;32m----> 2\u001b[0;31m \u001b[0mmy_tuple\u001b[0m\u001b[0;34m[\u001b[0m\u001b[0;36m0\u001b[0m\u001b[0;34m]\u001b[0m \u001b[0;34m=\u001b[0m \u001b[0;36m10\u001b[0m\u001b[0;34m\u001b[0m\u001b[0;34m\u001b[0m\u001b[0m\n\u001b[0m",
            "\u001b[0;31mTypeError\u001b[0m: 'tuple' object does not support item assignment"
          ]
        }
      ]
    },
    {
      "cell_type": "markdown",
      "source": [
        "\n",
        "16. What is a nested dictionary, and give an example of its use case ?"
      ],
      "metadata": {
        "id": "oyLHLx7ZYflz"
      }
    },
    {
      "cell_type": "markdown",
      "source": [
        "A nested dictionary in Python is a dictionary where the values themselves are dictionaries .\n",
        "\n",
        "It's like having a dictionary inside another dictionary, allowing you to represent more complex, structured data .\n",
        "\n",
        "***Example of a Nested Dictionary :-***"
      ],
      "metadata": {
        "id": "e7E41CD3ZC-O"
      }
    },
    {
      "cell_type": "code",
      "source": [
        "students = {\n",
        "    \"101\": {\"name\": \"Alice\", \"age\": 20, \"marks\": {\"math\": 88, \"science\": 92}},\n",
        "    \"102\": {\"name\": \"Bob\", \"age\": 21, \"marks\": {\"math\": 75, \"science\": 55}},\n",
        "    \"103\": {\"name\": \"Charlie\", \"age\": 22, \"marks\": {\"math\": 65, \"science\":95}}\n",
        "\n",
        "}\n",
        "\n",
        "student_values = list(students.values())\n",
        "print(student_values)"
      ],
      "metadata": {
        "colab": {
          "base_uri": "https://localhost:8080/"
        },
        "id": "VN4Mz0GQaJjJ",
        "outputId": "15680908-5d4c-4c8b-aa0f-23bb938e92b1"
      },
      "execution_count": null,
      "outputs": [
        {
          "output_type": "stream",
          "name": "stdout",
          "text": [
            "[{'name': 'Alice', 'age': 20, 'marks': {'math': 88, 'science': 92}}, {'name': 'Bob', 'age': 21, 'marks': {'math': 75, 'science': 55}}, {'name': 'Charlie', 'age': 22, 'marks': {'math': 65, 'science': 95}}]\n"
          ]
        }
      ]
    },
    {
      "cell_type": "markdown",
      "source": [
        "Here:\n",
        "\n",
        "* The outer dictionary uses student IDs (\"101\", \"102\", \"103\") as keys.\n",
        "\n",
        "* The values are inner dictionaries holding details like name, age, and another nested dictionary marks .\n"
      ],
      "metadata": {
        "id": "UdnvpQ37dSAr"
      }
    },
    {
      "cell_type": "markdown",
      "source": [
        "\n",
        "17. Describe the time complexity of accessing elements in a dictionary .\n",
        "\n",
        "In Python, dictionaries are implemented as hash tables, and the average time complexity for accessing an element is -\n",
        "\n",
        "* O(1) - constant time, on average\n"
      ],
      "metadata": {
        "id": "NumVX_sPeSKB"
      }
    },
    {
      "cell_type": "markdown",
      "source": [
        "### ***Explanation:***\n",
        "\n",
        "(1) When you access an element like my_dict[key], Pythom:\n",
        "\n",
        "* Computes the hash of the key .\n",
        "\n",
        "* Uses this hash to find the bucket(index) in the underlying hash table .\n",
        "\n",
        "* Directly retrieves the value stored at that location .\n",
        "\n",
        "since hashing and constant-time operations, lookups are usually O(1) ."
      ],
      "metadata": {
        "id": "fFqYxTjFg_kF"
      }
    },
    {
      "cell_type": "markdown",
      "source": [
        "18. In what situations are lists preferred over dictionaries ?\n",
        "\n",
        "Although dictionaries are very powerful, there are situations where lists are preferred because of their simplicity and efficiency.\n",
        "\n",
        "### ***Situations where lists are better than dictionaries:-***\n",
        "\n",
        "(1) When order matters -\n",
        "\n",
        "* Lists maintain insertion order naturally (and support indexing) .\n",
        "\n",
        "* Example :  Keeping track of task in the order they were added .\n"
      ],
      "metadata": {
        "id": "Ln2v26ljjREe"
      }
    },
    {
      "cell_type": "code",
      "source": [
        "tasks = [\"task1\", \"task2\", \"task3\"]\n",
        "print(tasks[0:2])"
      ],
      "metadata": {
        "colab": {
          "base_uri": "https://localhost:8080/"
        },
        "id": "0uPZBAvNB1jK",
        "outputId": "adcf8479-a856-40c4-c3e1-5edb72875875"
      },
      "execution_count": null,
      "outputs": [
        {
          "output_type": "stream",
          "name": "stdout",
          "text": [
            "['task1', 'task2']\n"
          ]
        }
      ]
    },
    {
      "cell_type": "markdown",
      "source": [
        "(2) When data is sequential or indexed by position -\n",
        "\n",
        "* If you just need elements by their position(0,1,2...), list are ideal .\n",
        "\n",
        "* Example : Storing scores for players in order .\n"
      ],
      "metadata": {
        "id": "CoJYXfm_CR1w"
      }
    },
    {
      "cell_type": "markdown",
      "source": [
        "(3) When keys are not needed -\n",
        "\n",
        "* If you don't require identifiers(keys), a list is simpler .\n",
        "\n",
        "* Example : A list of student names .\n"
      ],
      "metadata": {
        "id": "U3Y9UkeAC0dC"
      }
    },
    {
      "cell_type": "markdown",
      "source": [
        "(4) When duplicate values are allowed -\n",
        "\n",
        "* List can store duplicates, but dictionary keys must be unique .\n",
        "\n",
        "* Example : Recording votes for candidates .\n"
      ],
      "metadata": {
        "id": "QiuWWElJDT3J"
      }
    },
    {
      "cell_type": "markdown",
      "source": [
        "(5) When memory efficiency matters -\n",
        "\n",
        "* Lists usually consume less memory than dictionaries because dictionaries store both keys and value with hashing overhead .\n"
      ],
      "metadata": {
        "id": "5riwmTWlDwmV"
      }
    },
    {
      "cell_type": "markdown",
      "source": [
        "(6) When frequent iteration is needed -\n",
        "\n",
        "* Iterating through a list is slightly faster than through a dictionary(since dictionaries involve hashing) .\n",
        "\n",
        "* Example : Processing a long list of numbers .\n"
      ],
      "metadata": {
        "id": "0SGwnVMvENfU"
      }
    },
    {
      "cell_type": "markdown",
      "source": [
        "19. Why are dictionaries considered unordered, and how does that affect data retrieval ?\n",
        "\n",
        "* Before Python 3.7, dictionaries did not guarantee that items would be stored in the same order they were inserted .\n",
        "\n",
        "* This is because dictionaries are based on hash tables, and hashing scatters keys across memory for last lookup .\n",
        "\n",
        "* So, the order in which you inserted items was not necessarily the order in which they were stored internally .\n"
      ],
      "metadata": {
        "id": "HOtKbLWZE4CB"
      }
    },
    {
      "cell_type": "markdown",
      "source": [
        "**Change in Python 3.7+ :-**\n",
        "\n",
        "* Starting with python 3.7, and officially guaranteed in python 3.8, dictionaries preserve insertion order .\n",
        "\n",
        "* This means if you insert items in a certain squence, iterating over the dictionary will give them back in that same order .\n"
      ],
      "metadata": {
        "id": "m9M7ddiwa637"
      }
    },
    {
      "cell_type": "code",
      "source": [
        "d = {\"a\": 1, \"b\": 2, \"c\": 3}\n",
        "print(d)"
      ],
      "metadata": {
        "colab": {
          "base_uri": "https://localhost:8080/"
        },
        "id": "KnX_VKywb0QN",
        "outputId": "2c17721a-1129-4d98-b4f2-6211875ea1df"
      },
      "execution_count": null,
      "outputs": [
        {
          "output_type": "stream",
          "name": "stdout",
          "text": [
            "{'a': 1, 'b': 2, 'c': 3}\n"
          ]
        }
      ]
    },
    {
      "cell_type": "markdown",
      "source": [
        "***How ordering (or lack of it) affects data retrival :-***\n",
        "\n",
        "(1) Key-based retrival is unaffected -\n",
        "\n",
        "* Retrieving by key (d[\"b\"]) has always been O(1) on average, regardless of order .\n",
        "* Hashing ensures you don't need to care about where the item is stored .\n"
      ],
      "metadata": {
        "id": "UUX36E5UcGIu"
      }
    },
    {
      "cell_type": "markdown",
      "source": [
        "(2) Iteration behavior changes -\n",
        "\n",
        "* Before Python 3.7, you couldn't rely on iteration order (for k in d:) .\n",
        "\n",
        "* After Python 3.7, you can safely rely on insertion order when looping through dictionaries .\n"
      ],
      "metadata": {
        "id": "nFavDtMMdDk1"
      }
    },
    {
      "cell_type": "markdown",
      "source": [
        "(3) No positional access -\n",
        "\n",
        "* Unlike lists, you cannot retrieve elements by index (e.g., d[0] ) .\n",
        "\n",
        "* You must use keys, since dictionaries are designed for key-value lookups, not positional access ."
      ],
      "metadata": {
        "id": "xSxpNmRydxT3"
      }
    },
    {
      "cell_type": "markdown",
      "source": [
        "20. Explain the difference between a list and a dictionary in terms of data retrival ."
      ],
      "metadata": {
        "id": "r32Rw3XaebTj"
      }
    },
    {
      "cell_type": "markdown",
      "source": [
        "List Retrieval -\n",
        "\n",
        "* Access by index (position) - O(1) (constant time) .\n",
        "\n",
        "* Example -"
      ],
      "metadata": {
        "id": "2Q1Ye3Y-fAzN"
      }
    },
    {
      "cell_type": "code",
      "source": [
        "numbers = [10, 20, 30, 40]\n",
        "print(numbers[2])"
      ],
      "metadata": {
        "colab": {
          "base_uri": "https://localhost:8080/"
        },
        "id": "Rww2puMlfZx1",
        "outputId": "deaf54ec-3e82-43a0-f482-6e010f7c85e0"
      },
      "execution_count": null,
      "outputs": [
        {
          "output_type": "stream",
          "name": "stdout",
          "text": [
            "30\n"
          ]
        }
      ]
    },
    {
      "cell_type": "markdown",
      "source": [
        "* To find an elements by value, Python must search through the list, which is O(n) (linear time) .\n"
      ],
      "metadata": {
        "id": "j9couhv6fkVk"
      }
    },
    {
      "cell_type": "code",
      "source": [
        "print(30 in numbers)"
      ],
      "metadata": {
        "colab": {
          "base_uri": "https://localhost:8080/"
        },
        "id": "czSrFYeAf_52",
        "outputId": "2fc65d9a-af7d-40fc-a068-a4df9298f870"
      },
      "execution_count": null,
      "outputs": [
        {
          "output_type": "stream",
          "name": "stdout",
          "text": [
            "True\n"
          ]
        }
      ]
    },
    {
      "cell_type": "markdown",
      "source": [
        "Dictionary Retrieval -\n",
        "\n",
        "* Access by key-O(1) on average (thanks to hanhling) .\n",
        "\n",
        "* Example -"
      ],
      "metadata": {
        "id": "kXiastvAgGzQ"
      }
    },
    {
      "cell_type": "code",
      "source": [
        "student = {\"name\": \"Alice\", \"age\": 20, \"grade\": \"A\"}\n",
        "print(student[\"age\"])"
      ],
      "metadata": {
        "colab": {
          "base_uri": "https://localhost:8080/"
        },
        "id": "9Mi7c5Z9gj-2",
        "outputId": "63d81143-1246-4b22-c26b-78b9da66f732"
      },
      "execution_count": null,
      "outputs": [
        {
          "output_type": "stream",
          "name": "stdout",
          "text": [
            "20\n"
          ]
        }
      ]
    },
    {
      "cell_type": "markdown",
      "source": [
        "# ***Practical Question -***\n",
        "\n",
        "1. Write a code to creat a string with your name and print it .\n"
      ],
      "metadata": {
        "id": "g87UwZdio5Kk"
      }
    },
    {
      "cell_type": "code",
      "source": [
        "# Creat a string with your name\n",
        "\n",
        "name = \"Nakul Kumar verma\"\n",
        "\n",
        "City = \"Meerut\"\n",
        "\n",
        "print(\"My name is\", name , \"I am from\", City)"
      ],
      "metadata": {
        "colab": {
          "base_uri": "https://localhost:8080/"
        },
        "id": "ZDhgJ39Opy9B",
        "outputId": "442ce20a-ccde-40e5-f0f5-c8fa4f858d11"
      },
      "execution_count": null,
      "outputs": [
        {
          "output_type": "stream",
          "name": "stdout",
          "text": [
            "My name is Nakul Kumar verma I am from Meerut\n"
          ]
        }
      ]
    },
    {
      "cell_type": "markdown",
      "source": [
        "2. Write a code to find the length of the string \"Hello World\" ."
      ],
      "metadata": {
        "id": "rcDCJABerJSs"
      }
    },
    {
      "cell_type": "code",
      "source": [
        "# Code to find the length of the string \"Hello World\"\n",
        "\n",
        "text = \"Hello World\"\n",
        "\n",
        "length = len(text)\n",
        "\n",
        "print(\"The length of the stirng is:\", length)"
      ],
      "metadata": {
        "id": "Xsjb993Crpla",
        "colab": {
          "base_uri": "https://localhost:8080/"
        },
        "outputId": "c57b7642-9222-488c-d09c-e9ca1c6ab81c"
      },
      "execution_count": null,
      "outputs": [
        {
          "output_type": "stream",
          "name": "stdout",
          "text": [
            "The length of the stirng is: 11\n"
          ]
        }
      ]
    },
    {
      "cell_type": "markdown",
      "source": [
        "3. Write a code to slice the first 3 characters from the string \"Python Programming\" ."
      ],
      "metadata": {
        "id": "i9TFgW7rue7a"
      }
    },
    {
      "cell_type": "code",
      "source": [
        "# Code to slice the first 3 characters from the stirng \"Pyhton Programming\"\n",
        "\n",
        "text = \"Python Programming\"\n",
        "\n",
        "# Slice the first 3 characters\n",
        "sliced_text = text[0:3]\n",
        "\n",
        "print(\"The first 3 characters are:\", sliced_text)"
      ],
      "metadata": {
        "colab": {
          "base_uri": "https://localhost:8080/"
        },
        "id": "HFtV0k-Wu5nY",
        "outputId": "2c14918e-d715-4dde-db6f-7ac0443309aa"
      },
      "execution_count": null,
      "outputs": [
        {
          "output_type": "stream",
          "name": "stdout",
          "text": [
            "The first 3 characters are: Pyt\n"
          ]
        }
      ]
    },
    {
      "cell_type": "markdown",
      "source": [
        "4. Write a code to convert the string \"hello\" to uppercase ."
      ],
      "metadata": {
        "id": "A8RzYqrqvo8m"
      }
    },
    {
      "cell_type": "code",
      "source": [
        "# Code to convert the string \"hello\" to uppercase\n",
        "\n",
        "text = \"hello\"\n",
        "\n",
        "# convert to uppercase\n",
        "upper_text = text.upper()\n",
        "\n",
        "print(\"Uppercase string:\", upper_text)"
      ],
      "metadata": {
        "colab": {
          "base_uri": "https://localhost:8080/"
        },
        "id": "Kj6_oqySwGuF",
        "outputId": "d0fd10da-031b-48f4-ff99-f715f019da38"
      },
      "execution_count": null,
      "outputs": [
        {
          "output_type": "stream",
          "name": "stdout",
          "text": [
            "Uppercase string: HELLO\n"
          ]
        }
      ]
    },
    {
      "cell_type": "markdown",
      "source": [
        "5. Write a code to replace the word \"apple\" with \"orange\" in the string \"i like apple\" ."
      ],
      "metadata": {
        "id": "IxWICrDCws8-"
      }
    },
    {
      "cell_type": "code",
      "source": [
        "# Code to replace the word \"apple\" with \"orange\" in the string \"I like apple\".\n",
        "\n",
        "text = \"I like apple\"\n",
        "\n",
        "# Replace \"apple\" with \"orange\"\n",
        "new_text = text.replace(\"apple\", \"orange\")\n",
        "\n",
        "print(\"Updated string:\", new_text)"
      ],
      "metadata": {
        "id": "1lOVuE5XxILw",
        "colab": {
          "base_uri": "https://localhost:8080/"
        },
        "outputId": "97890ec9-5ef6-4727-cdad-f807b00ec409"
      },
      "execution_count": null,
      "outputs": [
        {
          "output_type": "stream",
          "name": "stdout",
          "text": [
            "Updated string: I like orange\n"
          ]
        }
      ]
    },
    {
      "cell_type": "markdown",
      "source": [
        "6. write a code to create a list with numbers 1 to 5 and print it.\n"
      ],
      "metadata": {
        "id": "OkYtFjg61nI9"
      }
    },
    {
      "cell_type": "code",
      "source": [
        "# Code to create a list with numbers 1 to 5 and print it.\n",
        "\n",
        "numbers = []\n",
        "i = 1\n",
        "while i <= 5:\n",
        "  numbers.append(i)\n",
        "  i += 1\n",
        "  print(numbers)"
      ],
      "metadata": {
        "colab": {
          "base_uri": "https://localhost:8080/"
        },
        "id": "4moGlymdK1Wp",
        "outputId": "21877450-2d8c-41fe-af98-0df8294bba30"
      },
      "execution_count": null,
      "outputs": [
        {
          "output_type": "stream",
          "name": "stdout",
          "text": [
            "[1]\n",
            "[1, 2]\n",
            "[1, 2, 3]\n",
            "[1, 2, 3, 4]\n",
            "[1, 2, 3, 4, 5]\n"
          ]
        }
      ]
    },
    {
      "cell_type": "markdown",
      "source": [
        "7. Write a code to append the number 10 to the list[1, 2, 3, 4] ."
      ],
      "metadata": {
        "id": "stE7zwyTLacf"
      }
    },
    {
      "cell_type": "code",
      "source": [
        "# Code to append the number 10 to the list[1, 2, 3, 4]\n",
        "\n",
        "numbers = [1, 2, 3, 4]\n",
        "\n",
        "# Append 10 tp the list\n",
        "\n",
        "numbers.append(10)\n",
        "\n",
        "print(numbers)"
      ],
      "metadata": {
        "colab": {
          "base_uri": "https://localhost:8080/"
        },
        "id": "VD-Cc8DpMjFB",
        "outputId": "c8af8ad6-cc0b-40f7-9dfc-3725d5c3c393"
      },
      "execution_count": null,
      "outputs": [
        {
          "output_type": "stream",
          "name": "stdout",
          "text": [
            "[1, 2, 3, 4, 10]\n"
          ]
        }
      ]
    },
    {
      "cell_type": "markdown",
      "source": [
        "8. Write a code to remove the numbers 3 from the list[1, 2, 3, 4, 5] ."
      ],
      "metadata": {
        "id": "tZYaV4unM9nb"
      }
    },
    {
      "cell_type": "code",
      "source": [
        "# Code tp remove the number 3 from the list[1, 2, 3, 4, 5]\n",
        "\n",
        "numbers = [1, 2, 3, 4, 5]\n",
        "\n",
        "# Remove 3 from the list\n",
        "\n",
        "numbers.remove(3)\n",
        "\n",
        "print(numbers)"
      ],
      "metadata": {
        "colab": {
          "base_uri": "https://localhost:8080/"
        },
        "id": "xRZLYr9MNkOw",
        "outputId": "ea0ee695-1519-4bde-dd7f-4119ad59d973"
      },
      "execution_count": null,
      "outputs": [
        {
          "output_type": "stream",
          "name": "stdout",
          "text": [
            "[1, 2, 4, 5]\n"
          ]
        }
      ]
    },
    {
      "cell_type": "markdown",
      "source": [
        "9. Write a code to access the second element in the list['a', 'b', 'c', 'd'] ."
      ],
      "metadata": {
        "id": "N_AV1rMKOCiG"
      }
    },
    {
      "cell_type": "code",
      "source": [
        "# code to access the second element in the list ['a', 'b', 'c', 'd']\n",
        "\n",
        "letters = ['a', 'b', 'c', 'd']\n",
        "\n",
        "# Access the second element\n",
        "\n",
        "second_element = letters[1]\n",
        "\n",
        "print(second_element)"
      ],
      "metadata": {
        "colab": {
          "base_uri": "https://localhost:8080/"
        },
        "id": "5HYlWxwhPGeu",
        "outputId": "43ee152f-c336-4638-93da-f0412faa5cef"
      },
      "execution_count": null,
      "outputs": [
        {
          "output_type": "stream",
          "name": "stdout",
          "text": [
            "b\n"
          ]
        }
      ]
    },
    {
      "cell_type": "markdown",
      "source": [
        "10. Write a code to reverse the list[10, 20, 30, 40, 50]."
      ],
      "metadata": {
        "id": "Cjdft_yGQTtR"
      }
    },
    {
      "cell_type": "code",
      "source": [
        "# Code to reverse the list[10, 20, 30, 40, 50]\n",
        "\n",
        "numbers = [10, 20, 30, 40, 50]\n",
        "\n",
        "# Reverse the list\n",
        "\n",
        "numbers.reverse()\n",
        "\n",
        "print(numbers)"
      ],
      "metadata": {
        "colab": {
          "base_uri": "https://localhost:8080/"
        },
        "id": "eVgzMjGWRUVq",
        "outputId": "f400c2da-fa96-478f-9bb4-242418d37e4e"
      },
      "execution_count": null,
      "outputs": [
        {
          "output_type": "stream",
          "name": "stdout",
          "text": [
            "[50, 40, 30, 20, 10]\n"
          ]
        }
      ]
    },
    {
      "cell_type": "markdown",
      "source": [
        "11. Write a code to create a tuple with the elements 100, 200, 300 and print it ."
      ],
      "metadata": {
        "id": "6DK8aEdKRuad"
      }
    },
    {
      "cell_type": "code",
      "source": [
        "# Code to create a tuple with the elements 100, 200, 300 and print it .\n",
        "\n",
        "# Create a tuple\n",
        "\n",
        "numbers = (100, 200, 300)\n",
        "\n",
        "print(numbers)"
      ],
      "metadata": {
        "colab": {
          "base_uri": "https://localhost:8080/"
        },
        "id": "QAjrZ79RS0Zp",
        "outputId": "2bf4f1b1-d0d1-4a32-896d-593afa9caf33"
      },
      "execution_count": null,
      "outputs": [
        {
          "output_type": "stream",
          "name": "stdout",
          "text": [
            "(100, 200, 300)\n"
          ]
        }
      ]
    },
    {
      "cell_type": "markdown",
      "source": [
        "12. Write a code to access the second-to-last element of the tuple('red', 'green', 'blue', 'yellow') ."
      ],
      "metadata": {
        "id": "FJHWPz7XTTni"
      }
    },
    {
      "cell_type": "code",
      "source": [
        "# Code to access the second-to-last element of the tuple('red', 'green', 'blue', 'yellow')\n",
        "\n",
        "colors = ('red', 'green', 'blue', 'yellow')\n",
        "\n",
        "# Access the second-to-last element\n",
        "\n",
        "second_last = colors[-2]\n",
        "\n",
        "print(second_last)\n"
      ],
      "metadata": {
        "colab": {
          "base_uri": "https://localhost:8080/"
        },
        "id": "hrw6VdSyT1cx",
        "outputId": "b111bd81-aea8-4f2f-eef5-d22fc1eefd12"
      },
      "execution_count": null,
      "outputs": [
        {
          "output_type": "stream",
          "name": "stdout",
          "text": [
            "blue\n"
          ]
        }
      ]
    },
    {
      "cell_type": "markdown",
      "source": [
        "13. Write a code to find the minimum number in the tuple(10, 20, 5, 15) ."
      ],
      "metadata": {
        "id": "6mGRF153U0FD"
      }
    },
    {
      "cell_type": "code",
      "source": [
        "# Code tp find the minimum number in the tuple(10, 20, 5, 15)\n",
        "\n",
        "numbers = (10, 20, 5, 15)\n",
        "\n",
        "# Find minimum number\n",
        "minimum = min(numbers)\n",
        "\n",
        "print(minimum)"
      ],
      "metadata": {
        "colab": {
          "base_uri": "https://localhost:8080/"
        },
        "id": "Jc-uzybTVP3z",
        "outputId": "a8c52bdd-4e78-4ae0-8797-b3d2d074e63d"
      },
      "execution_count": null,
      "outputs": [
        {
          "output_type": "stream",
          "name": "stdout",
          "text": [
            "5\n"
          ]
        }
      ]
    },
    {
      "cell_type": "markdown",
      "source": [
        "14. Write a code to find the inbex of the element \"cat\" in the tuple('dog', 'cat', 'rabbit') ."
      ],
      "metadata": {
        "id": "Ye1xUCO7V2_i"
      }
    },
    {
      "cell_type": "code",
      "source": [
        "# Code to find the index of the element \"cat\" in the tuple('dog', 'cat', 'rabbit')\n",
        "\n",
        "animals = ('dog', 'cat', 'rabbit')\n",
        "\n",
        "# Find index of \"cat\"\n",
        "index_of_cat = animals.index(\"cat\")\n",
        "\n",
        "print(index_of_cat)"
      ],
      "metadata": {
        "colab": {
          "base_uri": "https://localhost:8080/"
        },
        "id": "0t9W8pP7WRE-",
        "outputId": "ff0b98f6-647c-40ef-d79f-8516e20c9a7f"
      },
      "execution_count": null,
      "outputs": [
        {
          "output_type": "stream",
          "name": "stdout",
          "text": [
            "1\n"
          ]
        }
      ]
    },
    {
      "cell_type": "markdown",
      "source": [
        "15. Write a code to create a tuple containing three different fruits and check if \"kiwi\" is in it."
      ],
      "metadata": {
        "id": "arZeKTcpXBYj"
      }
    },
    {
      "cell_type": "code",
      "source": [
        "# Code to create a tuple containing three different fruits and check \"kiwi\" is in it.\n",
        "\n",
        "# Create a tuple of fruits\n",
        "\n",
        "fruits = (\"apple\", \"banana\", \"orange\")\n",
        "\n",
        "# Check if \"kiwi\" is in the tuple\n",
        "\n",
        "if \"kiwi\" in fruits:\n",
        "  print(\"kiwi is in the tuple\")\n",
        "else:\n",
        "    print(\"kiwi is not in the tuple\")"
      ],
      "metadata": {
        "colab": {
          "base_uri": "https://localhost:8080/"
        },
        "id": "zfZUsIfhX6bo",
        "outputId": "0e952f81-1baa-464f-ad34-d7c5e49e5742"
      },
      "execution_count": null,
      "outputs": [
        {
          "output_type": "stream",
          "name": "stdout",
          "text": [
            "kiwi is not in the tuple\n"
          ]
        }
      ]
    },
    {
      "cell_type": "markdown",
      "source": [
        "16. Write a code to create a set with the elements 'a', 'b', 'c' and print it."
      ],
      "metadata": {
        "id": "_sJtQCRYZb7E"
      }
    },
    {
      "cell_type": "code",
      "source": [
        "# Code to Create a set with the elements 'a', 'b', 'c' and print it\n",
        "\n",
        "# Create a set\n",
        "\n",
        "my_set = {'a', 'b', 'c'}\n",
        "\n",
        "print(my_set)"
      ],
      "metadata": {
        "colab": {
          "base_uri": "https://localhost:8080/"
        },
        "id": "5VuUbp4baAh3",
        "outputId": "70453079-85e5-4cef-ad30-08321597f68b"
      },
      "execution_count": null,
      "outputs": [
        {
          "output_type": "stream",
          "name": "stdout",
          "text": [
            "{'b', 'a', 'c'}\n"
          ]
        }
      ]
    },
    {
      "cell_type": "markdown",
      "source": [
        "17. Write a code to clear all elements from the set{1, 2, 3, 4, 5} .\n"
      ],
      "metadata": {
        "id": "_0CIBDmtae3K"
      }
    },
    {
      "cell_type": "code",
      "source": [
        "# Code tp clear all elements from the set{1, 2, 3, 4, 5}\n",
        "\n",
        "numbers = {1, 2, 3, 4, 5}\n",
        "\n",
        "# clear all elements\n",
        "\n",
        "numbers.clear()\n",
        "\n",
        "print(numbers)"
      ],
      "metadata": {
        "colab": {
          "base_uri": "https://localhost:8080/"
        },
        "id": "U9UKq2Ipa6NH",
        "outputId": "46b53853-4bf1-4117-91de-5704dacc0681"
      },
      "execution_count": null,
      "outputs": [
        {
          "output_type": "stream",
          "name": "stdout",
          "text": [
            "set()\n"
          ]
        }
      ]
    },
    {
      "cell_type": "markdown",
      "source": [
        "18. Write a code to remove the element 4 from the set{1, 2, 3, 4} ."
      ],
      "metadata": {
        "id": "OJ5CTIKUbT6U"
      }
    },
    {
      "cell_type": "code",
      "source": [
        "# Code to remove the element 4 from the set{1, 2, 3, 4}\n",
        "\n",
        "my_set = {1, 2, 3, 4}\n",
        "\n",
        "# Remove element 4\n",
        "\n",
        "my_set.remove(4)\n",
        "\n",
        "print(my_set)"
      ],
      "metadata": {
        "colab": {
          "base_uri": "https://localhost:8080/"
        },
        "id": "7s90KhgUGJwU",
        "outputId": "37685beb-9c0b-4c79-e775-3821ac16f35c"
      },
      "execution_count": 1,
      "outputs": [
        {
          "output_type": "stream",
          "name": "stdout",
          "text": [
            "{1, 2, 3}\n"
          ]
        }
      ]
    },
    {
      "cell_type": "markdown",
      "source": [
        "19. Write a code to find the union of two sets{1, 2, 3} and {3, 4, 5} ."
      ],
      "metadata": {
        "id": "_OKwiA5DGj3m"
      }
    },
    {
      "cell_type": "code",
      "source": [
        "# Code to find the union of two sets\n",
        "\n",
        "set1 = {1, 2, 3}\n",
        "set2 = {3, 4, 5}\n",
        "\n",
        "# Find union using union() method\n",
        "\n",
        "union_set = set1.union(set2)\n",
        "\n",
        "print(union_set)"
      ],
      "metadata": {
        "colab": {
          "base_uri": "https://localhost:8080/"
        },
        "id": "uhet0imaG9gc",
        "outputId": "8ab5e237-a2ab-425c-e0bc-6ae2c3697ecc"
      },
      "execution_count": 3,
      "outputs": [
        {
          "output_type": "stream",
          "name": "stdout",
          "text": [
            "{1, 2, 3, 4, 5}\n"
          ]
        }
      ]
    },
    {
      "cell_type": "markdown",
      "source": [
        "20. Write a code to find the intersection of two sets{1, 2, 3} and {2, 3, 4} ."
      ],
      "metadata": {
        "id": "DIsdptO7HyKH"
      }
    },
    {
      "cell_type": "code",
      "source": [
        "# Code to find the intersection of two sets\n",
        "\n",
        "set1 = {1, 2, 3}\n",
        "set2 = {2, 3, 4}\n",
        "\n",
        "# Find intersection using intersection() method\n",
        "\n",
        "intersection_set = set1.intersection(set2)\n",
        "\n",
        "print(intersection_set)\n",
        "\n"
      ],
      "metadata": {
        "colab": {
          "base_uri": "https://localhost:8080/"
        },
        "id": "R37oYejcIRlI",
        "outputId": "420b6700-ead8-4f22-c1bb-959e94c21742"
      },
      "execution_count": 4,
      "outputs": [
        {
          "output_type": "stream",
          "name": "stdout",
          "text": [
            "{2, 3}\n"
          ]
        }
      ]
    },
    {
      "cell_type": "markdown",
      "source": [
        "21. Write a code to creat a dictionary with the key \"name\", \"age\", and \"city\", and print it ."
      ],
      "metadata": {
        "id": "cVEJJx8dPU5w"
      }
    },
    {
      "cell_type": "code",
      "source": [
        "# Code to creat a dictionary with the key\n",
        "\n",
        "person = {\n",
        "    \"name\": \"Nakul kumar verma\",\n",
        "    \"age\": 25,\n",
        "    \"city\": \"Meerut\"\n",
        "}\n",
        "\n",
        "\n",
        "print(person)"
      ],
      "metadata": {
        "colab": {
          "base_uri": "https://localhost:8080/"
        },
        "id": "FlUWqDwpXaC3",
        "outputId": "9cb5c25f-47b5-4ef6-90ad-2d12c1acf582"
      },
      "execution_count": 5,
      "outputs": [
        {
          "output_type": "stream",
          "name": "stdout",
          "text": [
            "{'name': 'Nakul kumar verma', 'age': 25, 'city': 'Meerut'}\n"
          ]
        }
      ]
    },
    {
      "cell_type": "markdown",
      "source": [
        "22. Write a code to add a new key-value pair \"country\":\"USA\" to thw dictionary{'name':'john','age':25} ."
      ],
      "metadata": {
        "id": "atba5FBsb6Xx"
      }
    },
    {
      "cell_type": "code",
      "source": [
        "# Code to add a new-key value pair\n",
        "\n",
        "person = {'name': 'john', 'age' : 25}\n",
        "\n",
        "# Add new key-value pair\n",
        "\n",
        "person['country'] = 'USA'\n",
        "\n",
        "print(person)"
      ],
      "metadata": {
        "colab": {
          "base_uri": "https://localhost:8080/"
        },
        "id": "Tdfm8cYFgrlm",
        "outputId": "b816bde4-f8d8-4d3b-e5f0-e08e9bd569ea"
      },
      "execution_count": 6,
      "outputs": [
        {
          "output_type": "stream",
          "name": "stdout",
          "text": [
            "{'name': 'john', 'age': 25, 'country': 'USA'}\n"
          ]
        }
      ]
    },
    {
      "cell_type": "markdown",
      "source": [
        "23. Write a code to access the value associated with the key \"name\" in the dictionary {'name':'Alice', 'age': 30} ."
      ],
      "metadata": {
        "id": "fNYbmDnkhPfp"
      }
    },
    {
      "cell_type": "code",
      "source": [
        "# Code to access the value associated with the key \" name \"\n",
        "\n",
        "person = {'name': 'Alice', 'age': 30}\n",
        "\n",
        "# Access value using key\n",
        "\n",
        "name_value = person['name']\n",
        "\n",
        "print(name_value)"
      ],
      "metadata": {
        "colab": {
          "base_uri": "https://localhost:8080/"
        },
        "id": "i3pHkRLrhwE-",
        "outputId": "950ae8ef-bf4a-4f74-e405-c7b9e1cd23dc"
      },
      "execution_count": 7,
      "outputs": [
        {
          "output_type": "stream",
          "name": "stdout",
          "text": [
            "Alice\n"
          ]
        }
      ]
    },
    {
      "cell_type": "markdown",
      "source": [
        "24. Write a code to remove the key \"age\" from the dictionary {'name': 'Bob', 'age':22, 'city':'New York'} ."
      ],
      "metadata": {
        "id": "TQ790_LyiWZl"
      }
    },
    {
      "cell_type": "code",
      "source": [
        "# Code to remove the key \"age\" from the dictionary.\n",
        "\n",
        "person = {'name': 'Bob', 'age': 22, 'city': 'New York'}\n",
        "\n",
        "# Remove the key \"age\"\n",
        "\n",
        "person.pop('age')\n",
        "\n",
        "print(person)"
      ],
      "metadata": {
        "colab": {
          "base_uri": "https://localhost:8080/"
        },
        "id": "vBsgqan9i4jH",
        "outputId": "c3027719-2de0-4a5b-9190-bae4a9b84373"
      },
      "execution_count": 8,
      "outputs": [
        {
          "output_type": "stream",
          "name": "stdout",
          "text": [
            "{'name': 'Bob', 'city': 'New York'}\n"
          ]
        }
      ]
    },
    {
      "cell_type": "markdown",
      "source": [
        "25. Write a code to check if the key \"city\" exists in the dictionary {'name': 'Alice', 'city': 'paris'} ."
      ],
      "metadata": {
        "id": "vX4W8QDmjqB5"
      }
    },
    {
      "cell_type": "code",
      "source": [
        "# Code to check if the key \"city\" exists in the dictionary .\n",
        "\n",
        "person = {'name': 'Alice', 'city': 'paris'}\n",
        "\n",
        "# Check if \"city\" key exists\n",
        "\n",
        "if \"city\" in person:\n",
        "  print(\"key 'city' exists in the dictionary.\")\n",
        "\n",
        "else:\n",
        "\n",
        "    print(\"key 'city' does not exists in the dictionary.\")"
      ],
      "metadata": {
        "colab": {
          "base_uri": "https://localhost:8080/"
        },
        "id": "T4F04AkYkDOA",
        "outputId": "fa31c261-2883-46bf-c352-5fce84fa2459"
      },
      "execution_count": 12,
      "outputs": [
        {
          "output_type": "stream",
          "name": "stdout",
          "text": [
            "key 'city' exists in the dictionary.\n"
          ]
        }
      ]
    },
    {
      "cell_type": "markdown",
      "source": [
        "26. Write a code to create a list, a tuple, and dictionary, and print them all ."
      ],
      "metadata": {
        "id": "6pxwEFu2lUYN"
      }
    },
    {
      "cell_type": "code",
      "source": [
        "# Create a List\n",
        "\n",
        "my_list = [1, 2, 3, 4, 5]\n",
        "\n",
        "# Create a tuple\n",
        "\n",
        "my_tuple = (10, 20, 30, 40, 50)\n",
        "\n",
        "# Create a dictionary\n",
        "\n",
        "\n",
        "my_dict = {\"name\": \"Alice\", \"age\": 25, \"city\": \"paris\"}\n",
        "\n",
        "print(\"List:\", my_list)\n",
        "print(\"Tuple:\", my_tuple)\n",
        "print(\"Dictionary:\", my_dict)\n",
        "\n"
      ],
      "metadata": {
        "colab": {
          "base_uri": "https://localhost:8080/"
        },
        "id": "HpK0dURZlrpZ",
        "outputId": "e48c03d7-084f-48f3-b5cb-2f88936cd741"
      },
      "execution_count": 13,
      "outputs": [
        {
          "output_type": "stream",
          "name": "stdout",
          "text": [
            "List: [1, 2, 3, 4, 5]\n",
            "Tuple: (10, 20, 30, 40, 50)\n",
            "Dictionary: {'name': 'Alice', 'age': 25, 'city': 'paris'}\n"
          ]
        }
      ]
    },
    {
      "cell_type": "markdown",
      "source": [
        "27. Write a code to create a list of 5 random numbers between 1 to 100, sort it in ascending order, and print the result."
      ],
      "metadata": {
        "id": "ivZvt6cEmu8p"
      }
    },
    {
      "cell_type": "code",
      "source": [
        "# Create a List of 5 random numbers between 1 to 100\n",
        "\n",
        "import random\n",
        "\n",
        "numbers = [random.randint(1, 100) for _ in range(5)]\n",
        "\n",
        "# Sort the List in ascending order\n",
        "\n",
        "numbers.sort()\n",
        "\n",
        "print(\"Sorted random numbers:\", numbers)"
      ],
      "metadata": {
        "colab": {
          "base_uri": "https://localhost:8080/"
        },
        "id": "aEk5ATRNnJAu",
        "outputId": "5902eade-0320-4f60-d52d-cd26a5894ae4"
      },
      "execution_count": 15,
      "outputs": [
        {
          "output_type": "stream",
          "name": "stdout",
          "text": [
            "Sorted random numbers: [2, 20, 41, 66, 76]\n"
          ]
        }
      ]
    },
    {
      "cell_type": "markdown",
      "source": [
        "28. Write a code to  create a list with strings and print the element at the third index ."
      ],
      "metadata": {
        "id": "E5UtXUGFn9T6"
      }
    },
    {
      "cell_type": "code",
      "source": [
        "# Create a List with Strings\n",
        "\n",
        "fruits = [\"apple\", \"bsnana\", \"cherry\", \"mango\", \"kiwi\"]\n",
        "\n",
        "# Print the element at the third index\n",
        "\n",
        "print(\"Element at index 3:\", fruits[3])"
      ],
      "metadata": {
        "colab": {
          "base_uri": "https://localhost:8080/"
        },
        "id": "k8CZtMA1oQZG",
        "outputId": "99b6da29-5be1-44fd-e06b-d1656440686f"
      },
      "execution_count": 16,
      "outputs": [
        {
          "output_type": "stream",
          "name": "stdout",
          "text": [
            "Element at index 3: mango\n"
          ]
        }
      ]
    },
    {
      "cell_type": "markdown",
      "source": [
        "29. Write a code to combine two dictionary into one and print the result ."
      ],
      "metadata": {
        "id": "_96B3zCRozZB"
      }
    },
    {
      "cell_type": "code",
      "source": [
        "# Code to combine two dictionary into one\n",
        "\n",
        "# Create two dictionaries\n",
        "\n",
        "dict1 = {\"a\": 20, \"b\": 25}\n",
        "dict2 = {\"c\": 30, \"d\": 35}\n",
        "\n",
        "# Combine dictionaries\n",
        "\n",
        "\n",
        "combine_dict = {**dict1, **dict2}\n",
        "\n",
        "print(\"Combined Dictionaries:\", combine_dict)"
      ],
      "metadata": {
        "colab": {
          "base_uri": "https://localhost:8080/"
        },
        "id": "OPyGX11dpJMj",
        "outputId": "6123e67f-137b-4239-fb55-2365bc7dd3d0"
      },
      "execution_count": 18,
      "outputs": [
        {
          "output_type": "stream",
          "name": "stdout",
          "text": [
            "Combined Dictionaries: {'a': 20, 'b': 25, 'c': 30, 'd': 35}\n"
          ]
        }
      ]
    },
    {
      "cell_type": "markdown",
      "source": [
        "30. Write a code to convert a list of strings into a set."
      ],
      "metadata": {
        "id": "rq4CApIDqK4P"
      }
    },
    {
      "cell_type": "code",
      "source": [
        "# Code to convert a list of strings into a set\n",
        "\n",
        "# Create a list of strings\n",
        "\n",
        "my_list = [\"apple\", \"banana\", \"cherry\", \"apple\", \"banana\"]\n",
        "\n",
        "# Convert list to set\n",
        "\n",
        "my_set = set(my_list)\n",
        "\n",
        "print(\"Set:\", my_set)"
      ],
      "metadata": {
        "colab": {
          "base_uri": "https://localhost:8080/"
        },
        "id": "9ndNMLD_qc4f",
        "outputId": "3c59a356-c5c9-4d27-d63a-4537157ed85e"
      },
      "execution_count": 19,
      "outputs": [
        {
          "output_type": "stream",
          "name": "stdout",
          "text": [
            "Set: {'cherry', 'banana', 'apple'}\n"
          ]
        }
      ]
    }
  ]
}